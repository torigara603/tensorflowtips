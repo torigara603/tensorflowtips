{
 "cells": [
  {
   "cell_type": "markdown",
   "metadata": {},
   "source": [
    "# Tensorflow 2系のモデルの保存と読み込み\n",
    "\n",
    "## 目次\n"
   ]
  },
  {
   "cell_type": "markdown",
   "metadata": {},
   "source": [
    "## 概要\n",
    "\n",
    "Tensorflow2 でのモデルの保存方法についてメモしておく。  \n",
    "参考 <https://www.tensorflow.org/guide/keras/save_and_serialize?hl=ja#sequential_%E3%83%A2%E3%83%87%E3%83%AB%E3%81%BE%E3%81%9F%E3%81%AF_functional_api_%E3%83%A2%E3%83%87%E3%83%AB%E3%81%AE%E6%A7%8B%E6%88%90>\n",
    "\n",
    "Tensorflow2 ではモデル全体を保存する方法とモデルの重みを保存する方法がある。  \n",
    "また、それらの保存における保存形式として２つの保存形式がある。  \n",
    "\n",
    "２つの保存形式はそれぞれ`Keras H5`形式と`Tensorflow SavedModel`形式と呼ばれる。\n",
    "\n",
    "\n",
    "まずはモデル全体の保存する方法をメモしてから、次にモデルの重みを保存する方法を見ていく。"
   ]
  },
  {
   "cell_type": "markdown",
   "metadata": {},
   "source": [
    "## 開発環境\n",
    "\n",
    "`Ubuntu 18.04 LTS`"
   ]
  },
  {
   "cell_type": "code",
   "execution_count": 1,
   "metadata": {},
   "outputs": [
    {
     "name": "stdout",
     "output_type": "stream",
     "text": [
      "[tool.poetry]\n",
      "name = \"tips\"\n",
      "version = \"0.1.0\"\n",
      "description = \"\"\n",
      "authors = [\"Your Name <you@example.com>\"]\n",
      "\n",
      "[tool.poetry.dependencies]\n",
      "python = \"^3.8\"\n",
      "numpy = \"1.19.3\"\n",
      "tensorflow-cpu = \"2.6.2\"\n",
      "jupyter = \"^1.0.0\"\n",
      "nbconvert = \"^6.3.0\"\n",
      "Pillow = \"^8.4.0\"\n",
      "\n",
      "[tool.poetry.dev-dependencies]\n",
      "pytest = \"^5.2\"\n",
      "\n",
      "[build-system]\n",
      "requires = [\"poetry-core>=1.0.0\"]\n",
      "build-backend = \"poetry.core.masonry.api\"\n"
     ]
    }
   ],
   "source": [
    "!cat $VIRTUAL_ENV/../pyproject.toml"
   ]
  },
  {
   "cell_type": "code",
   "execution_count": 12,
   "metadata": {},
   "outputs": [],
   "source": [
    "import os\n",
    "from pathlib import Path\n",
    "\n",
    "import tensorflow as tf\n",
    "import tensorflow.keras as keras \n",
    "\n",
    "FILE_DIR = Path(os.path.abspath(os.path.curdir))"
   ]
  },
  {
   "cell_type": "markdown",
   "metadata": {},
   "source": [
    "## モデル準備"
   ]
  },
  {
   "cell_type": "code",
   "execution_count": 6,
   "metadata": {},
   "outputs": [],
   "source": [
    "def make_model():\n",
    "    wsize, hsize, csize = 28, 28, 3\n",
    "    x0 = keras.layers.Input(shape=(wsize, hsize, csize))\n",
    "    x = keras.layers.Conv2D(32, 3, activation='relu')(x0)\n",
    "    x = keras.layers.Conv2D(64, 3, activation='relu')(x)\n",
    "    x = keras.layers.Flatten()(x)\n",
    "    x = keras.layers.Dense(128, activation='relu')(x)\n",
    "    x = keras.layers.Dense(10, activation='softmax')(x)\n",
    "    model = keras.Model(inputs=(x0), outputs=(x))\n",
    "    return model"
   ]
  },
  {
   "cell_type": "code",
   "execution_count": 7,
   "metadata": {},
   "outputs": [
    {
     "name": "stdout",
     "output_type": "stream",
     "text": [
      "Model: \"model\"\n",
      "_________________________________________________________________\n",
      "Layer (type)                 Output Shape              Param #   \n",
      "=================================================================\n",
      "input_1 (InputLayer)         [(None, 28, 28, 3)]       0         \n",
      "_________________________________________________________________\n",
      "conv2d (Conv2D)              (None, 26, 26, 32)        896       \n",
      "_________________________________________________________________\n",
      "conv2d_1 (Conv2D)            (None, 24, 24, 64)        18496     \n",
      "_________________________________________________________________\n",
      "flatten (Flatten)            (None, 36864)             0         \n",
      "_________________________________________________________________\n",
      "dense (Dense)                (None, 128)               4718720   \n",
      "_________________________________________________________________\n",
      "dense_1 (Dense)              (None, 10)                1290      \n",
      "=================================================================\n",
      "Total params: 4,739,402\n",
      "Trainable params: 4,739,402\n",
      "Non-trainable params: 0\n",
      "_________________________________________________________________\n"
     ]
    },
    {
     "name": "stderr",
     "output_type": "stream",
     "text": [
      "2021-12-18 16:12:32.573350: I tensorflow/core/platform/cpu_feature_guard.cc:142] This TensorFlow binary is optimized with oneAPI Deep Neural Network Library (oneDNN) to use the following CPU instructions in performance-critical operations:  AVX2 FMA\n",
      "To enable them in other operations, rebuild TensorFlow with the appropriate compiler flags.\n"
     ]
    }
   ],
   "source": [
    "model = make_model()\n",
    "\n",
    "model.summary()\n",
    "model.compile(optimizer=keras.optimizers.Adam(),\n",
    "              loss=keras.losses.SparseCategoricalCrossentropy())\n"
   ]
  },
  {
   "cell_type": "markdown",
   "metadata": {},
   "source": [
    "## モデル全体の保存と読み込み\n",
    "\n",
    "モデル全体の保存は`keras.Model.save`で行うことができる。  \n",
    "`Keras h5`形式での保存の場合、拡張子を`.h5`にしたファイル名を指定する。  \n",
    "それ以外の場合は`SavedModel`形式で保存される。\n",
    "\n",
    "モデル全体の保存は以下のようにすると保存することができる。"
   ]
  },
  {
   "cell_type": "code",
   "execution_count": 25,
   "metadata": {},
   "outputs": [
    {
     "name": "stdout",
     "output_type": "stream",
     "text": [
      "# start save h5\n",
      "# start save SavedModel\n",
      "INFO:tensorflow:Assets written to: /home/kenta/workspace/mytensorflow/tips/tips/tutorials/tutorial3/data/models/saved_model/assets\n"
     ]
    }
   ],
   "source": [
    "keras_model_file = Path(f\"{FILE_DIR}/data/models/keras_model.h5\")\n",
    "saved_model_file = Path(f\"{FILE_DIR}/data/models/saved_model\")\n",
    "# モデル全体のセーブ\n",
    "print(\"# start save h5\")\n",
    "model.save(keras_model_file)\n",
    "print(\"# start save SavedModel\")                  \n",
    "model.save(saved_model_file)"
   ]
  },
  {
   "cell_type": "markdown",
   "metadata": {},
   "source": [
    "この際に`Keras h5`形式の場合はひとつのファイルにモデルの構造や重みが保存されるが、`SavedModel`形式ではディレクトリに保存される。"
   ]
  },
  {
   "cell_type": "code",
   "execution_count": 18,
   "metadata": {},
   "outputs": [
    {
     "name": "stdout",
     "output_type": "stream",
     "text": [
      "data/models/keras_model.h5\n",
      "\n",
      "data/models/saved_model:\n",
      "assets\tkeras_metadata.pb  saved_model.pb  variables\n"
     ]
    }
   ],
   "source": [
    "!ls data/models/*"
   ]
  },
  {
   "cell_type": "markdown",
   "metadata": {},
   "source": [
    "saved_model.pb は saved_model形式でのモデルの構造等が保存してある。  \n",
    "keras_metadata.pb はtf2.5から導入されたモノで、おそらく`SavedModel`形式から`Keras.Model`を復元するためのモノである。  \n",
    "この点が`SavedModel`形式で保存するほうがよい理由となる。  \n",
    "variablesはモデルの重みが保存してある。  \n",
    "\n",
    "読み込みは以下の方法で行う。"
   ]
  },
  {
   "cell_type": "code",
   "execution_count": 19,
   "metadata": {},
   "outputs": [
    {
     "name": "stdout",
     "output_type": "stream",
     "text": [
      "load keras model\n",
      "Model: \"model\"\n",
      "_________________________________________________________________\n",
      "Layer (type)                 Output Shape              Param #   \n",
      "=================================================================\n",
      "input_1 (InputLayer)         [(None, 28, 28, 3)]       0         \n",
      "_________________________________________________________________\n",
      "conv2d (Conv2D)              (None, 26, 26, 32)        896       \n",
      "_________________________________________________________________\n",
      "conv2d_1 (Conv2D)            (None, 24, 24, 64)        18496     \n",
      "_________________________________________________________________\n",
      "flatten (Flatten)            (None, 36864)             0         \n",
      "_________________________________________________________________\n",
      "dense (Dense)                (None, 128)               4718720   \n",
      "_________________________________________________________________\n",
      "dense_1 (Dense)              (None, 10)                1290      \n",
      "=================================================================\n",
      "Total params: 4,739,402\n",
      "Trainable params: 4,739,402\n",
      "Non-trainable params: 0\n",
      "_________________________________________________________________\n",
      "Model: \"model\"\n",
      "_________________________________________________________________\n",
      "Layer (type)                 Output Shape              Param #   \n",
      "=================================================================\n",
      "input_1 (InputLayer)         [(None, 28, 28, 3)]       0         \n",
      "_________________________________________________________________\n",
      "conv2d (Conv2D)              (None, 26, 26, 32)        896       \n",
      "_________________________________________________________________\n",
      "conv2d_1 (Conv2D)            (None, 24, 24, 64)        18496     \n",
      "_________________________________________________________________\n",
      "flatten (Flatten)            (None, 36864)             0         \n",
      "_________________________________________________________________\n",
      "dense (Dense)                (None, 128)               4718720   \n",
      "_________________________________________________________________\n",
      "dense_1 (Dense)              (None, 10)                1290      \n",
      "=================================================================\n",
      "Total params: 4,739,402\n",
      "Trainable params: 4,739,402\n",
      "Non-trainable params: 0\n",
      "_________________________________________________________________\n"
     ]
    }
   ],
   "source": [
    "print(\"load keras model\")\n",
    "# keras model インスタンスとしてロード\n",
    "# keras model load from h5 model\n",
    "keras_model1 :keras.Model = keras.models.load_model(keras_model_file)\n",
    "keras_model1.summary()\n",
    "del keras_model1\n"
   ]
  },
  {
   "cell_type": "code",
   "execution_count": 20,
   "metadata": {},
   "outputs": [
    {
     "name": "stdout",
     "output_type": "stream",
     "text": [
      "Model: \"model\"\n",
      "_________________________________________________________________\n",
      "Layer (type)                 Output Shape              Param #   \n",
      "=================================================================\n",
      "input_1 (InputLayer)         [(None, 28, 28, 3)]       0         \n",
      "_________________________________________________________________\n",
      "conv2d (Conv2D)              (None, 26, 26, 32)        896       \n",
      "_________________________________________________________________\n",
      "conv2d_1 (Conv2D)            (None, 24, 24, 64)        18496     \n",
      "_________________________________________________________________\n",
      "flatten (Flatten)            (None, 36864)             0         \n",
      "_________________________________________________________________\n",
      "dense (Dense)                (None, 128)               4718720   \n",
      "_________________________________________________________________\n",
      "dense_1 (Dense)              (None, 10)                1290      \n",
      "=================================================================\n",
      "Total params: 4,739,402\n",
      "Trainable params: 4,739,402\n",
      "Non-trainable params: 0\n",
      "_________________________________________________________________\n"
     ]
    }
   ],
   "source": [
    "# keras model load from tf model\n",
    "keras_model2 :keras.Model = keras.models.load_model(saved_model_file)\n",
    "keras_model2.summary()\n",
    "del keras_model2"
   ]
  },
  {
   "cell_type": "code",
   "execution_count": 23,
   "metadata": {},
   "outputs": [
    {
     "name": "stdout",
     "output_type": "stream",
     "text": [
      "load_tf_model\n",
      "error\n"
     ]
    }
   ],
   "source": [
    "# tf形式としてロード\n",
    "print(\"load_tf_model\")\n",
    "# tf model load from keras model\n",
    "# Error\n",
    "try:\n",
    "    tf_model1 = tf.saved_model.load(keras_model_file)\n",
    "except Exception as e:\n",
    "    print(\"error\")\n",
    "else:\n",
    "    print(tf_model1)\n",
    "    del tf_model1\n"
   ]
  },
  {
   "cell_type": "code",
   "execution_count": 27,
   "metadata": {},
   "outputs": [
    {
     "name": "stdout",
     "output_type": "stream",
     "text": [
      "<tensorflow.python.saved_model.load.Loader._recreate_base_user_object.<locals>._UserObject object at 0x7f0a0437da00>\n"
     ]
    }
   ],
   "source": [
    "# tf model load from tf model\n",
    "# Success\n",
    "tf_model2 = tf.saved_model.load(str(saved_model_file))\n",
    "print(tf_model2)\n",
    "del tf_model2"
   ]
  },
  {
   "cell_type": "markdown",
   "metadata": {},
   "source": [
    "## 重みの保存と読み込み\n",
    "\n",
    "モデルの全体だけでなく、重みだけを保存する方法も存在する。  \n",
    "重みだけの保存は転移学習等で使用するときに使うために用いられる。\n",
    "\n",
    "重みの保存にも`keras h5`形式と`SavedModel`形式がある。  \n",
    "どちらも`Keras.Model`のインスタンスで読み込みことができるのでどちらが良いのかは分からない。\n",
    "\n",
    "重みの保存は以下のコードで行うことができる。"
   ]
  },
  {
   "cell_type": "code",
   "execution_count": 28,
   "metadata": {},
   "outputs": [
    {
     "name": "stdout",
     "output_type": "stream",
     "text": [
      "save weights\n"
     ]
    }
   ],
   "source": [
    "# 重みだけ保存\n",
    "weights_file = f\"{FILE_DIR}/data/weights/weights.h5\"\n",
    "checkpoint_file = f\"{FILE_DIR}/data/weights/ckpt\"\n",
    "print(\"save weights\")\n",
    "# hdf5 形式\n",
    "model.save_weights(weights_file)\n",
    "# tf形式\n",
    "model.save_weights(checkpoint_file)"
   ]
  },
  {
   "cell_type": "markdown",
   "metadata": {},
   "source": [
    "これらのデータは以下のように保存されている\n",
    "`weights.h5`は`weights_file`を引数に渡した時に作成されるファイルである。\n",
    "それ以外のファイルは`checkpoint_file`を引数に渡した時に作成されるファイルである。  \n",
    "\n",
    "これは`saved_model`形式でモデル全体を保存した時に作成される重みと同じである。  \n",
    "\n",
    "`checkpoint`ファイルに関しては分からないので要調査が必要。"
   ]
  },
  {
   "cell_type": "code",
   "execution_count": 37,
   "metadata": {},
   "outputs": [
    {
     "name": "stdout",
     "output_type": "stream",
     "text": [
      "checkpoint  ckpt.data-00000-of-00001  ckpt.index  weights.h5\n",
      "---\n",
      "variables.data-00000-of-00001  variables.index\n"
     ]
    }
   ],
   "source": [
    "!ls data/weights/\n",
    "!echo \"---\"\n",
    "!ls data/models/saved_model/variables"
   ]
  },
  {
   "cell_type": "markdown",
   "metadata": {},
   "source": [
    "重みの読み込みは以下の方法で行う。\n",
    "`SavedModel`形式のファイルはドットの前までの名前を使えば読み込むことができる。\n",
    "\n",
    "モデル全体を保存したときに保存されたファイルも同じように読み込むことができる。"
   ]
  },
  {
   "cell_type": "code",
   "execution_count": 32,
   "metadata": {},
   "outputs": [
    {
     "name": "stdout",
     "output_type": "stream",
     "text": [
      "load weights\n"
     ]
    },
    {
     "data": {
      "text/plain": [
       "<tensorflow.python.training.tracking.util.CheckpointLoadStatus at 0x7f0a044b6a60>"
      ]
     },
     "execution_count": 32,
     "metadata": {},
     "output_type": "execute_result"
    }
   ],
   "source": [
    "# 重みの読み込み\n",
    "print(\"load weights\")\n",
    "model.load_weights(weights_file)\n",
    "model.load_weights(checkpoint_file)\n",
    "\n",
    "model.load_weights(f\"{FILE_DIR}/data/models/saved_model/variables/variables\")"
   ]
  }
 ],
 "metadata": {
  "interpreter": {
   "hash": "50daa6ee49c8bd495cc921ebb8e1701fa89ecde5b157a42e6c6983087986a2f5"
  },
  "kernelspec": {
   "display_name": "Python 3.8.12 64-bit ('.venv': poetry)",
   "language": "python",
   "name": "python3"
  },
  "language_info": {
   "codemirror_mode": {
    "name": "ipython",
    "version": 3
   },
   "file_extension": ".py",
   "mimetype": "text/x-python",
   "name": "python",
   "nbconvert_exporter": "python",
   "pygments_lexer": "ipython3",
   "version": "3.8.12"
  },
  "orig_nbformat": 4
 },
 "nbformat": 4,
 "nbformat_minor": 2
}
