{
 "cells": [
  {
   "cell_type": "markdown",
   "metadata": {},
   "source": [
    "# Tutorial2 モデルの作成\n",
    "\n",
    "## 目次\n",
    "\n",
    "## 結論\n",
    "\n",
    "Functional API 作成方法でモデルを作ろう。\n",
    "\n",
    "## 概要\n",
    "\n",
    "Tensorflow2系でのモデルの作成方法は３つの方法がある。  \n",
    "それらの方法について解説していく。  \n",
    "\n",
    "３つ方法は以下の名前で呼ばれる。  \n",
    "- Subclass API\n",
    "- Sequetial API\n",
    "- Functional API\n",
    "\n"
   ]
  },
  {
   "cell_type": "markdown",
   "metadata": {},
   "source": [
    "## 開発環境\n",
    "\n",
    "`Ubuntu 18.04 LTS`"
   ]
  },
  {
   "cell_type": "code",
   "execution_count": 1,
   "metadata": {},
   "outputs": [
    {
     "name": "stdout",
     "output_type": "stream",
     "text": [
      "[tool.poetry]\n",
      "name = \"tips\"\n",
      "version = \"0.1.0\"\n",
      "description = \"\"\n",
      "authors = [\"Your Name <you@example.com>\"]\n",
      "\n",
      "[tool.poetry.dependencies]\n",
      "python = \"^3.8\"\n",
      "numpy = \"1.19.3\"\n",
      "tensorflow-cpu = \"2.6.2\"\n",
      "jupyter = \"^1.0.0\"\n",
      "nbconvert = \"^6.3.0\"\n",
      "Pillow = \"^8.4.0\"\n",
      "\n",
      "[tool.poetry.dev-dependencies]\n",
      "pytest = \"^5.2\"\n",
      "\n",
      "[build-system]\n",
      "requires = [\"poetry-core>=1.0.0\"]\n",
      "build-backend = \"poetry.core.masonry.api\"\n"
     ]
    }
   ],
   "source": [
    "!cat $VIRTUAL_ENV/../pyproject.toml"
   ]
  },
  {
   "cell_type": "code",
   "execution_count": 2,
   "metadata": {},
   "outputs": [],
   "source": [
    "import numpy as np\n",
    "import tensorflow as tf\n",
    "import tensorflow.keras as keras\n"
   ]
  },
  {
   "cell_type": "markdown",
   "metadata": {},
   "source": [
    "## データ\n",
    "\n",
    "今回はMNISTデータセットを用いる"
   ]
  },
  {
   "cell_type": "code",
   "execution_count": 3,
   "metadata": {},
   "outputs": [
    {
     "name": "stdout",
     "output_type": "stream",
     "text": [
      "[shape] : (60000, 28, 28, 1)\n",
      "[Unique label] : [0 1 2 3 4 5 6 7 8 9]\n",
      "[num class] : 10\n"
     ]
    }
   ],
   "source": [
    "train, test = keras.datasets.mnist.load_data()\n",
    "train_x, train_y = train\n",
    "\n",
    "train_x = train_x / 255 # normalize\n",
    "train_x = np.expand_dims(train_x, axis=-1) # 28x28 -> 28x28x1\n",
    "print(f\"[shape] : {np.shape(train_x)}\")\n",
    "_, hsize, wsize, csize = np.shape(train_x)\n",
    "\n",
    "unique_labels = np.unique(train_y)\n",
    "num_class = len(unique_labels)\n",
    "print(f\"[Unique label] : {unique_labels}\")\n",
    "print(f\"[num class] : {num_class}\")\n"
   ]
  },
  {
   "cell_type": "markdown",
   "metadata": {},
   "source": [
    "## Subclass API\n",
    "\n",
    "Subclass API はモデルのひな型を継承して、その内部にレイヤーなどを定義する方法である。  \n",
    "この方法は`pytorch`を使っている人には馴染み深い方法である。  \n",
    "`pytorch`の時は`torch.nn.Module`を継承してモデルを定義していたが、`Tensorflow2系`では`tensorflow.keras.Model`を継承してモデルを定義する。 \n",
    "今回はMNISTの分類問題におけるモデルを作成してみる。 "
   ]
  },
  {
   "cell_type": "code",
   "execution_count": 4,
   "metadata": {},
   "outputs": [
    {
     "name": "stderr",
     "output_type": "stream",
     "text": [
      "2021-12-16 22:29:28.038684: I tensorflow/core/platform/cpu_feature_guard.cc:142] This TensorFlow binary is optimized with oneAPI Deep Neural Network Library (oneDNN) to use the following CPU instructions in performance-critical operations:  AVX2 FMA\n",
      "To enable them in other operations, rebuild TensorFlow with the appropriate compiler flags.\n"
     ]
    }
   ],
   "source": [
    "class MyModel(keras.Model):\n",
    "    def __init__(self, num_class):\n",
    "        super().__init__()\n",
    "        self.conv1 = keras.layers.Conv2D(32, 3, activation='relu') # 畳み込み層\n",
    "        self.conv2 = keras.layers.Conv2D(64, 3, activation='relu') # 畳み込み層\n",
    "        self.flatten = keras.layers.Flatten() # バッチサイズ以外を平坦化\n",
    "        self.dense1 = keras.layers.Dense(128, activation='relu') # 全結合層 torch.nn.flattenと同一\n",
    "        self.dense2 = keras.layers.Dense(num_class, activation='softmax')\n",
    "\n",
    "    def call(self, x):\n",
    "        x = self.conv1(x)\n",
    "        x = self.conv2(x)\n",
    "        x = self.flatten(x)\n",
    "        x = self.dense1(x)\n",
    "        x = self.dense2(x)\n",
    "        return x\n",
    "\n",
    "model = MyModel(num_class)\n",
    "model.compile(optimizer=keras.optimizers.Adam(),\n",
    "              loss=keras.losses.SparseCategoricalCrossentropy(),\n",
    "              metrics=keras.metrics.Accuracy())\n"
   ]
  },
  {
   "cell_type": "markdown",
   "metadata": {},
   "source": [
    "Subclass API を用いて作成されたモデルは `define by run` 形式で作成されるのでデータが渡されるまで`model.summary()`で構造を確認することができない。"
   ]
  },
  {
   "cell_type": "code",
   "execution_count": 5,
   "metadata": {},
   "outputs": [
    {
     "ename": "ValueError",
     "evalue": "This model has not yet been built. Build the model first by calling `build()` or calling `fit()` with some data, or specify an `input_shape` argument in the first layer(s) for automatic build.",
     "output_type": "error",
     "traceback": [
      "\u001b[0;31m---------------------------------------------------------------------------\u001b[0m",
      "\u001b[0;31mValueError\u001b[0m                                Traceback (most recent call last)",
      "\u001b[0;32m/tmp/ipykernel_800/3470139634.py\u001b[0m in \u001b[0;36m<module>\u001b[0;34m\u001b[0m\n\u001b[0;32m----> 1\u001b[0;31m \u001b[0mmodel\u001b[0m\u001b[0;34m.\u001b[0m\u001b[0msummary\u001b[0m\u001b[0;34m(\u001b[0m\u001b[0;34m)\u001b[0m\u001b[0;34m\u001b[0m\u001b[0;34m\u001b[0m\u001b[0m\n\u001b[0m",
      "\u001b[0;32m~/workspace/mytensorflow/tips/.venv/lib/python3.8/site-packages/keras/engine/training.py\u001b[0m in \u001b[0;36msummary\u001b[0;34m(self, line_length, positions, print_fn)\u001b[0m\n\u001b[1;32m   2519\u001b[0m     \"\"\"\n\u001b[1;32m   2520\u001b[0m     \u001b[0;32mif\u001b[0m \u001b[0;32mnot\u001b[0m \u001b[0mself\u001b[0m\u001b[0;34m.\u001b[0m\u001b[0mbuilt\u001b[0m\u001b[0;34m:\u001b[0m\u001b[0;34m\u001b[0m\u001b[0;34m\u001b[0m\u001b[0m\n\u001b[0;32m-> 2521\u001b[0;31m       raise ValueError('This model has not yet been built. '\n\u001b[0m\u001b[1;32m   2522\u001b[0m                        \u001b[0;34m'Build the model first by calling `build()` or calling '\u001b[0m\u001b[0;34m\u001b[0m\u001b[0;34m\u001b[0m\u001b[0m\n\u001b[1;32m   2523\u001b[0m                        \u001b[0;34m'`fit()` with some data, or specify '\u001b[0m\u001b[0;34m\u001b[0m\u001b[0;34m\u001b[0m\u001b[0m\n",
      "\u001b[0;31mValueError\u001b[0m: This model has not yet been built. Build the model first by calling `build()` or calling `fit()` with some data, or specify an `input_shape` argument in the first layer(s) for automatic build."
     ]
    }
   ],
   "source": [
    "model.summary()"
   ]
  },
  {
   "cell_type": "markdown",
   "metadata": {},
   "source": [
    "一回データを通すと`model.summary()`を用いてモデルの構造を表示することができるが、`Output Shape`等の詳細な情報を表示されない。"
   ]
  },
  {
   "cell_type": "code",
   "execution_count": 6,
   "metadata": {},
   "outputs": [
    {
     "name": "stdout",
     "output_type": "stream",
     "text": [
      "Model: \"my_model\"\n",
      "_________________________________________________________________\n",
      "Layer (type)                 Output Shape              Param #   \n",
      "=================================================================\n",
      "conv2d (Conv2D)              multiple                  320       \n",
      "_________________________________________________________________\n",
      "conv2d_1 (Conv2D)            multiple                  18496     \n",
      "_________________________________________________________________\n",
      "flatten (Flatten)            multiple                  0         \n",
      "_________________________________________________________________\n",
      "dense (Dense)                multiple                  4718720   \n",
      "_________________________________________________________________\n",
      "dense_1 (Dense)              multiple                  1290      \n",
      "=================================================================\n",
      "Total params: 4,738,826\n",
      "Trainable params: 4,738,826\n",
      "Non-trainable params: 0\n",
      "_________________________________________________________________\n"
     ]
    },
    {
     "name": "stderr",
     "output_type": "stream",
     "text": [
      "2021-12-16 22:29:30.558040: I tensorflow/compiler/mlir/mlir_graph_optimization_pass.cc:185] None of the MLIR Optimization Passes are enabled (registered 2)\n"
     ]
    }
   ],
   "source": [
    "result = model.predict(train_x[:1])\n",
    "model.summary()"
   ]
  },
  {
   "cell_type": "markdown",
   "metadata": {},
   "source": [
    "これらの問題からあまり推奨できない。"
   ]
  },
  {
   "cell_type": "markdown",
   "metadata": {},
   "source": [
    "## Sequential API\n",
    "\n",
    "Sequentaial モデルは一番簡単な作成方法である。  \n",
    "この方法はレイヤーをリストに入れていき、最終的に`keras.Sequetial()`に引数として渡すだけで定義できる。  "
   ]
  },
  {
   "cell_type": "code",
   "execution_count": 7,
   "metadata": {},
   "outputs": [
    {
     "name": "stdout",
     "output_type": "stream",
     "text": [
      "Model: \"sequential\"\n",
      "_________________________________________________________________\n",
      "Layer (type)                 Output Shape              Param #   \n",
      "=================================================================\n",
      "conv2d_2 (Conv2D)            (None, 26, 26, 32)        896       \n",
      "_________________________________________________________________\n",
      "conv2d_3 (Conv2D)            (None, 24, 24, 64)        18496     \n",
      "_________________________________________________________________\n",
      "flatten_1 (Flatten)          (None, 36864)             0         \n",
      "_________________________________________________________________\n",
      "dense_2 (Dense)              (None, 128)               4718720   \n",
      "_________________________________________________________________\n",
      "dense_3 (Dense)              (None, 10)                1290      \n",
      "=================================================================\n",
      "Total params: 4,739,402\n",
      "Trainable params: 4,739,402\n",
      "Non-trainable params: 0\n",
      "_________________________________________________________________\n"
     ]
    }
   ],
   "source": [
    "mylayers = [keras.layers.Input(shape=(28, 28, 3)),\n",
    "            keras.layers.Conv2D(32, 3, activation='relu'), \n",
    "            keras.layers.Conv2D(64, 3, activation='relu'), \n",
    "            keras.layers.Flatten(), \n",
    "            keras.layers.Dense(128, activation='relu'),\n",
    "            keras.layers.Dense(num_class, activation='softmax')]\n",
    "            \n",
    "model = keras.Sequential(mylayers)\n",
    "model.compile(optimizer=keras.optimizers.Adam(),\n",
    "              loss=keras.losses.SparseCategoricalCrossentropy(),\n",
    "              metrics=keras.metrics.Accuracy())\n",
    "model.summary()\n"
   ]
  },
  {
   "cell_type": "markdown",
   "metadata": {},
   "source": [
    "もしくは最初に`Sequential`クラスをインスタンス化しておいて、`add`コマンドでレイヤーを追加していく方式も取れる。"
   ]
  },
  {
   "cell_type": "code",
   "execution_count": 8,
   "metadata": {},
   "outputs": [
    {
     "name": "stdout",
     "output_type": "stream",
     "text": [
      "Model: \"sequential_1\"\n",
      "_________________________________________________________________\n",
      "Layer (type)                 Output Shape              Param #   \n",
      "=================================================================\n",
      "conv2d_4 (Conv2D)            (None, 26, 26, 32)        896       \n",
      "_________________________________________________________________\n",
      "conv2d_5 (Conv2D)            (None, 24, 24, 64)        18496     \n",
      "_________________________________________________________________\n",
      "flatten_2 (Flatten)          (None, 36864)             0         \n",
      "_________________________________________________________________\n",
      "dense_4 (Dense)              (None, 128)               4718720   \n",
      "_________________________________________________________________\n",
      "dense_5 (Dense)              (None, 10)                1290      \n",
      "=================================================================\n",
      "Total params: 4,739,402\n",
      "Trainable params: 4,739,402\n",
      "Non-trainable params: 0\n",
      "_________________________________________________________________\n"
     ]
    }
   ],
   "source": [
    "model = keras.Sequential()\n",
    "model.add(keras.layers.Input(shape=(28, 28, 3)))\n",
    "model.add(keras.layers.Conv2D(32, 3, activation='relu')) # 畳み込み層\n",
    "model.add(keras.layers.Conv2D(64, 3, activation='relu')) # 畳み込み層\n",
    "model.add(keras.layers.Flatten()) # バッチサイズ以外を平坦化\n",
    "model.add(keras.layers.Dense(128, activation='relu')) # 全結合層 torch.nn.flattenと同一\n",
    "model.add(keras.layers.Dense(num_class, activation='softmax'))\n",
    "\n",
    "model.compile(optimizer=keras.optimizers.Adam(),\n",
    "              loss=keras.losses.SparseCategoricalCrossentropy(),\n",
    "              metrics=keras.metrics.Accuracy())\n",
    "model.summary()"
   ]
  },
  {
   "cell_type": "markdown",
   "metadata": {},
   "source": [
    "しかしコノ方法ではレイヤーが直列したモデルしか書けない。  \n",
    "なので Functional API の手法を使うのが一番良いだろう。  "
   ]
  },
  {
   "cell_type": "markdown",
   "metadata": {},
   "source": [
    "## Functional API\n",
    "\n",
    "Functional API では入力がレイヤーを通過していくように記述していく。  \n",
    "最後に入力と最終出力を使ってモデルを作成する。  "
   ]
  },
  {
   "cell_type": "code",
   "execution_count": 9,
   "metadata": {},
   "outputs": [
    {
     "name": "stdout",
     "output_type": "stream",
     "text": [
      "Model: \"model\"\n",
      "_________________________________________________________________\n",
      "Layer (type)                 Output Shape              Param #   \n",
      "=================================================================\n",
      "input_3 (InputLayer)         [(None, 28, 28, 3)]       0         \n",
      "_________________________________________________________________\n",
      "conv2d_6 (Conv2D)            (None, 26, 26, 32)        896       \n",
      "_________________________________________________________________\n",
      "conv2d_7 (Conv2D)            (None, 24, 24, 64)        18496     \n",
      "_________________________________________________________________\n",
      "flatten_3 (Flatten)          (None, 36864)             0         \n",
      "_________________________________________________________________\n",
      "dense_6 (Dense)              (None, 128)               4718720   \n",
      "_________________________________________________________________\n",
      "dense_7 (Dense)              (None, 10)                1290      \n",
      "=================================================================\n",
      "Total params: 4,739,402\n",
      "Trainable params: 4,739,402\n",
      "Non-trainable params: 0\n",
      "_________________________________________________________________\n"
     ]
    }
   ],
   "source": [
    "x0 = keras.layers.Input(shape=(28, 28, 3))\n",
    "x = keras.layers.Conv2D(32, 3, activation='relu')(x0)\n",
    "x = keras.layers.Conv2D(64, 3, activation='relu')(x) \n",
    "x = keras.layers.Flatten()(x)\n",
    "x = keras.layers.Dense(128, activation='relu')(x)\n",
    "x = keras.layers.Dense(num_class, activation='softmax')(x)\n",
    "model = keras.Model(inputs=[x0], outputs=[x])\n",
    "\n",
    "model.compile(optimizer=keras.optimizers.Adam(),\n",
    "              loss=keras.losses.SparseCategoricalCrossentropy(),\n",
    "              metrics=keras.metrics.Accuracy())\n",
    "model.summary()"
   ]
  },
  {
   "cell_type": "markdown",
   "metadata": {},
   "source": [
    "並列なレイヤーを持つモデルを作成してみると以下のように2出力のモデルなどが作れる。"
   ]
  },
  {
   "cell_type": "code",
   "execution_count": 10,
   "metadata": {},
   "outputs": [
    {
     "name": "stdout",
     "output_type": "stream",
     "text": [
      "Model: \"model_1\"\n",
      "__________________________________________________________________________________________________\n",
      "Layer (type)                    Output Shape         Param #     Connected to                     \n",
      "==================================================================================================\n",
      "input_4 (InputLayer)            [(None, 28, 28, 3)]  0                                            \n",
      "__________________________________________________________________________________________________\n",
      "conv2d_8 (Conv2D)               (None, 26, 26, 32)   896         input_4[0][0]                    \n",
      "__________________________________________________________________________________________________\n",
      "conv2d_9 (Conv2D)               (None, 24, 24, 64)   18496       conv2d_8[0][0]                   \n",
      "__________________________________________________________________________________________________\n",
      "flatten_4 (Flatten)             (None, 36864)        0           conv2d_9[0][0]                   \n",
      "__________________________________________________________________________________________________\n",
      "dense_8 (Dense)                 (None, 128)          4718720     flatten_4[0][0]                  \n",
      "__________________________________________________________________________________________________\n",
      "dense_9 (Dense)                 (None, 10)           1290        dense_8[0][0]                    \n",
      "__________________________________________________________________________________________________\n",
      "dense_10 (Dense)                (None, 100)          12900       dense_8[0][0]                    \n",
      "==================================================================================================\n",
      "Total params: 4,752,302\n",
      "Trainable params: 4,752,302\n",
      "Non-trainable params: 0\n",
      "__________________________________________________________________________________________________\n"
     ]
    }
   ],
   "source": [
    "x0 = keras.layers.Input(shape=(28, 28, 3))\n",
    "x = keras.layers.Conv2D(32, 3, activation='relu')(x0)\n",
    "x = keras.layers.Conv2D(64, 3, activation='relu')(x) \n",
    "x = keras.layers.Flatten()(x)\n",
    "x = keras.layers.Dense(128, activation='relu')(x)\n",
    "x1 = keras.layers.Dense(num_class, activation='softmax')(x)\n",
    "x2 = keras.layers.Dense(100, activation='sigmoid')(x)\n",
    "model = keras.Model(inputs=[x0], outputs=[x1, x2])\n",
    "\n",
    "model.compile(optimizer=keras.optimizers.Adam(),\n",
    "              loss=keras.losses.SparseCategoricalCrossentropy(),\n",
    "              metrics=keras.metrics.Accuracy())\n",
    "model.summary()"
   ]
  },
  {
   "cell_type": "markdown",
   "metadata": {},
   "source": [
    "この方式はKerasTensorという仮想Tensorをレイヤーに通してモデルを作成していく過程が意識しやすい。  \n",
    "例えば`x0`変数は以下の形式である。  \n",
    "この方式に慣れておいたほうが後々自作レイヤーを作る際に糧となるだろう。  "
   ]
  },
  {
   "cell_type": "code",
   "execution_count": 11,
   "metadata": {},
   "outputs": [
    {
     "name": "stdout",
     "output_type": "stream",
     "text": [
      "KerasTensor(type_spec=TensorSpec(shape=(None, 28, 28, 3), dtype=tf.float32, name='input_4'), name='input_4', description=\"created by layer 'input_4'\")\n"
     ]
    }
   ],
   "source": [
    "print(x0)"
   ]
  },
  {
   "cell_type": "markdown",
   "metadata": {},
   "source": [
    "## 最後に\n",
    "\n",
    "以上３つのモデル作成方法 `SubClassAPI`, `SequentialAPI`, `Functional API`を紹介した。\n",
    "\n",
    "カスタマイズ性の高さ等を考えると `Functional API`を使うのがよいだろう。"
   ]
  }
 ],
 "metadata": {
  "interpreter": {
   "hash": "50daa6ee49c8bd495cc921ebb8e1701fa89ecde5b157a42e6c6983087986a2f5"
  },
  "kernelspec": {
   "display_name": "Python 3.8.12 64-bit ('.venv': poetry)",
   "language": "python",
   "name": "python3"
  },
  "language_info": {
   "codemirror_mode": {
    "name": "ipython",
    "version": 3
   },
   "file_extension": ".py",
   "mimetype": "text/x-python",
   "name": "python",
   "nbconvert_exporter": "python",
   "pygments_lexer": "ipython3",
   "version": "3.8.12"
  },
  "orig_nbformat": 4
 },
 "nbformat": 4,
 "nbformat_minor": 2
}
